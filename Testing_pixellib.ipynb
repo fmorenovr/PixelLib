{
 "cells": [
  {
   "cell_type": "code",
   "execution_count": 1,
   "id": "865963f7",
   "metadata": {},
   "outputs": [],
   "source": [
    "import os, sys"
   ]
  },
  {
   "cell_type": "code",
   "execution_count": 2,
   "id": "26990357",
   "metadata": {},
   "outputs": [],
   "source": [
    "module_path = os.path.abspath(os.path.join('..'))\n",
    "if module_path not in sys.path:\n",
    "    sys.path.append(module_path)"
   ]
  },
  {
   "cell_type": "code",
   "execution_count": 3,
   "id": "5648fb82",
   "metadata": {},
   "outputs": [],
   "source": [
    "from pixellib.semantic import semantic_segmentation"
   ]
  },
  {
   "cell_type": "code",
   "execution_count": 4,
   "id": "0661fef8",
   "metadata": {},
   "outputs": [
    {
     "name": "stdout",
     "output_type": "stream",
     "text": [
      "WARNING:tensorflow:From C:\\Users\\Adrian\\anaconda3\\envs\\tf15\\lib\\site-packages\\tensorflow_core\\python\\ops\\resource_variable_ops.py:1630: calling BaseResourceVariable.__init__ (from tensorflow.python.ops.resource_variable_ops) with constraint is deprecated and will be removed in a future version.\n",
      "Instructions for updating:\n",
      "If using Keras pass *_constraint arguments to layers.\n"
     ]
    }
   ],
   "source": [
    "segment_image = semantic_segmentation()"
   ]
  },
  {
   "cell_type": "code",
   "execution_count": 5,
   "id": "0bdfdc64",
   "metadata": {},
   "outputs": [],
   "source": [
    "segment_image.load_ade20k_model(\"deeplabv3_xception65_ade20k.h5\")"
   ]
  },
  {
   "cell_type": "code",
   "execution_count": 6,
   "id": "1ccc8528",
   "metadata": {},
   "outputs": [
    {
     "name": "stdout",
     "output_type": "stream",
     "text": [
      "Processed Image saved successfully in your current working directory.\n"
     ]
    }
   ],
   "source": [
    "_,_, masks = segment_image.segmentAsAde20k(\"sample.jpg\", output_image_name = \"image_new.jpg\", overlay=True)"
   ]
  },
  {
   "cell_type": "code",
   "execution_count": 7,
   "id": "130f6ff7",
   "metadata": {},
   "outputs": [
    {
     "data": {
      "text/plain": [
       "[{'classes': 10,\n",
       "  'names': 'grass',\n",
       "  'colors': array([  4, 250,   7]),\n",
       "  'masks': array([[False, False, False, ..., False, False, False],\n",
       "         [False, False, False, ..., False, False, False],\n",
       "         [False, False, False, ..., False, False, False],\n",
       "         ...,\n",
       "         [ True,  True,  True, ...,  True,  True,  True],\n",
       "         [ True,  True,  True, ...,  True,  True,  True],\n",
       "         [ True,  True,  True, ...,  True,  True,  True]]),\n",
       "  'ratios': 48.9935302734375},\n",
       " {'classes': 5,\n",
       "  'names': 'tree',\n",
       "  'colors': array([  4, 200,   3]),\n",
       "  'masks': array([[ True,  True,  True, ...,  True,  True,  True],\n",
       "         [ True,  True,  True, ...,  True,  True,  True],\n",
       "         [ True,  True,  True, ...,  True,  True,  True],\n",
       "         ...,\n",
       "         [False, False, False, ..., False, False, False],\n",
       "         [False, False, False, ..., False, False, False],\n",
       "         [False, False, False, ..., False, False, False]]),\n",
       "  'ratios': 23.8104248046875},\n",
       " {'classes': 13,\n",
       "  'names': 'person',\n",
       "  'colors': array([150,   5,  61]),\n",
       "  'masks': array([[False, False, False, ..., False, False, False],\n",
       "         [False, False, False, ..., False, False, False],\n",
       "         [False, False, False, ..., False, False, False],\n",
       "         ...,\n",
       "         [False, False, False, ..., False, False, False],\n",
       "         [False, False, False, ..., False, False, False],\n",
       "         [False, False, False, ..., False, False, False]]),\n",
       "  'ratios': 14.0985107421875},\n",
       " {'classes': 21,\n",
       "  'names': 'car',\n",
       "  'colors': array([  0, 102, 200]),\n",
       "  'masks': array([[False, False, False, ..., False, False, False],\n",
       "         [False, False, False, ..., False, False, False],\n",
       "         [False, False, False, ..., False, False, False],\n",
       "         ...,\n",
       "         [False, False, False, ..., False, False, False],\n",
       "         [False, False, False, ..., False, False, False],\n",
       "         [False, False, False, ..., False, False, False]]),\n",
       "  'ratios': 7.595214843750001},\n",
       " {'classes': 2,\n",
       "  'names': 'building',\n",
       "  'colors': array([180, 120, 120]),\n",
       "  'masks': array([[False, False, False, ..., False, False, False],\n",
       "         [False, False, False, ..., False, False, False],\n",
       "         [False, False, False, ..., False, False, False],\n",
       "         ...,\n",
       "         [False, False, False, ..., False, False, False],\n",
       "         [False, False, False, ..., False, False, False],\n",
       "         [False, False, False, ..., False, False, False]]),\n",
       "  'ratios': 4.3902587890625},\n",
       " {'classes': 7,\n",
       "  'names': 'road',\n",
       "  'colors': array([140, 140, 140]),\n",
       "  'masks': array([[False, False, False, ..., False, False, False],\n",
       "         [False, False, False, ..., False, False, False],\n",
       "         [False, False, False, ..., False, False, False],\n",
       "         ...,\n",
       "         [False, False, False, ..., False, False, False],\n",
       "         [False, False, False, ..., False, False, False],\n",
       "         [False, False, False, ..., False, False, False]]),\n",
       "  'ratios': 0.6781005859375},\n",
       " {'classes': 120,\n",
       "  'names': 'ball',\n",
       "  'colors': array([255,   0, 163]),\n",
       "  'masks': array([[False, False, False, ..., False, False, False],\n",
       "         [False, False, False, ..., False, False, False],\n",
       "         [False, False, False, ..., False, False, False],\n",
       "         ...,\n",
       "         [False, False, False, ..., False, False, False],\n",
       "         [False, False, False, ..., False, False, False],\n",
       "         [False, False, False, ..., False, False, False]]),\n",
       "  'ratios': 0.2581787109375},\n",
       " {'classes': 33,\n",
       "  'names': 'fence',\n",
       "  'colors': array([255, 184,   6]),\n",
       "  'masks': array([[False, False, False, ..., False, False, False],\n",
       "         [False, False, False, ..., False, False, False],\n",
       "         [False, False, False, ..., False, False, False],\n",
       "         ...,\n",
       "         [False, False, False, ..., False, False, False],\n",
       "         [False, False, False, ..., False, False, False],\n",
       "         [False, False, False, ..., False, False, False]]),\n",
       "  'ratios': 0.1373291015625},\n",
       " {'classes': 88,\n",
       "  'names': 'streetlight',\n",
       "  'colors': array([  0,  71, 255]),\n",
       "  'masks': array([[False, False, False, ..., False, False, False],\n",
       "         [False, False, False, ..., False, False, False],\n",
       "         [False, False, False, ..., False, False, False],\n",
       "         ...,\n",
       "         [False, False, False, ..., False, False, False],\n",
       "         [False, False, False, ..., False, False, False],\n",
       "         [False, False, False, ..., False, False, False]]),\n",
       "  'ratios': 0.0201416015625},\n",
       " {'classes': 44,\n",
       "  'names': 'signboard',\n",
       "  'colors': array([255,   5, 153]),\n",
       "  'masks': array([[False, False, False, ..., False, False, False],\n",
       "         [False, False, False, ..., False, False, False],\n",
       "         [False, False, False, ..., False, False, False],\n",
       "         ...,\n",
       "         [False, False, False, ..., False, False, False],\n",
       "         [False, False, False, ..., False, False, False],\n",
       "         [False, False, False, ..., False, False, False]]),\n",
       "  'ratios': 0.018310546875}]"
      ]
     },
     "execution_count": 7,
     "metadata": {},
     "output_type": "execute_result"
    }
   ],
   "source": [
    "masks"
   ]
  }
 ],
 "metadata": {
  "kernelspec": {
   "display_name": "Python 3",
   "language": "python",
   "name": "python3"
  },
  "language_info": {
   "codemirror_mode": {
    "name": "ipython",
    "version": 3
   },
   "file_extension": ".py",
   "mimetype": "text/x-python",
   "name": "python",
   "nbconvert_exporter": "python",
   "pygments_lexer": "ipython3",
   "version": "3.7.10"
  }
 },
 "nbformat": 4,
 "nbformat_minor": 5
}
